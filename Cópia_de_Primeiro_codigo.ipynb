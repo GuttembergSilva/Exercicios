{
  "nbformat": 4,
  "nbformat_minor": 0,
  "metadata": {
    "colab": {
      "provenance": [],
      "authorship_tag": "ABX9TyOvy+40xxkheCkSboqAj96q",
      "include_colab_link": true
    },
    "kernelspec": {
      "name": "python3",
      "display_name": "Python 3"
    },
    "language_info": {
      "name": "python"
    }
  },
  "cells": [
    {
      "cell_type": "markdown",
      "metadata": {
        "id": "view-in-github",
        "colab_type": "text"
      },
      "source": [
        "<a href=\"https://colab.research.google.com/github/GuttembergSilva/Exercicios/blob/main/C%C3%B3pia_de_Primeiro_codigo.ipynb\" target=\"_parent\"><img src=\"https://colab.research.google.com/assets/colab-badge.svg\" alt=\"Open In Colab\"/></a>"
      ]
    },
    {
      "cell_type": "code",
      "execution_count": null,
      "metadata": {
        "colab": {
          "base_uri": "https://localhost:8080/"
        },
        "id": "toI4y5iybq4T",
        "outputId": "9845f30f-1c88-418c-9e2a-cec31a37e9d0"
      },
      "outputs": [
        {
          "output_type": "stream",
          "name": "stdout",
          "text": [
            "Olá Mundo!\n",
            "Olá Mundo!\n"
          ]
        }
      ],
      "source": [
        "#-*- coding: utf-8 -*-\n",
        "\"\"\"\"comentario de varias linhas\"\"\"\n",
        "minha_variavel = \"Olá Mundo!\"\n",
        "print (minha_variavel)\n",
        "print (minha_variavel)"
      ]
    },
    {
      "cell_type": "code",
      "source": [
        "var1 = 1 #variavel interira\n",
        "var2 = 1.1 #variavel float\n",
        "var3 = \"Eu sou uma string # variavel string \"\n",
        "var4 = True #verdadeiro\n",
        "var5 = False #Falso\n",
        "print (var1)\n",
        "print (var2)\n",
        "print (var3)\n",
        "print (var4)\n",
        "print (var5)"
      ],
      "metadata": {
        "colab": {
          "base_uri": "https://localhost:8080/"
        },
        "id": "wknFwy_dkRi2",
        "outputId": "78342471-885d-4e5e-cd44-2c9d09ec1f4a"
      },
      "execution_count": null,
      "outputs": [
        {
          "output_type": "stream",
          "name": "stdout",
          "text": [
            "1\n",
            "1.1\n",
            "Eu sou uma string # variavel string \n",
            "True\n",
            "False\n"
          ]
        }
      ]
    },
    {
      "cell_type": "code",
      "source": [
        "x = 2\n",
        "y = 3\n",
        "\n",
        "soma = x + y\n",
        "print(soma >= y)"
      ],
      "metadata": {
        "colab": {
          "base_uri": "https://localhost:8080/"
        },
        "id": "T-_LmbHvg165",
        "outputId": "a13f88aa-0e39-4068-ce25-7d096d5a9224"
      },
      "execution_count": null,
      "outputs": [
        {
          "output_type": "stream",
          "name": "stdout",
          "text": [
            "True\n"
          ]
        }
      ]
    },
    {
      "cell_type": "code",
      "source": [
        "# while\n",
        "# for\n",
        "\n",
        "numero = 0\n",
        "\n",
        "while numero <10:\n",
        "  print(\"Número %d\" % (numero))\n",
        "  numero = numero + 1\n",
        "\n",
        "print(\"Fim do processo com loop While\")\n"
      ],
      "metadata": {
        "id": "IAfII_qLoQ2k",
        "colab": {
          "base_uri": "https://localhost:8080/"
        },
        "outputId": "a1e029dc-52ac-4a98-897a-87318fb075c2"
      },
      "execution_count": null,
      "outputs": [
        {
          "output_type": "stream",
          "name": "stdout",
          "text": [
            "Número 0\n",
            "Número 1\n",
            "Número 2\n",
            "Número 3\n",
            "Número 4\n",
            "Número 5\n",
            "Número 6\n",
            "Número 7\n",
            "Número 8\n",
            "Número 9\n",
            "Fim do processo com loop While\n"
          ]
        }
      ]
    },
    {
      "cell_type": "code",
      "source": [
        "dadoVenda = 0\n",
        "contador = 0\n",
        "ValorMedioDasVendas = 0\n",
        "ValorTotalDasVendas = 0\n",
        "\n",
        "while dadoVenda>=0:\n",
        "  dadoVenda = int(input(\"Digite o valor da venda, ou -1 para finalizar.\\n\"))\n",
        "  if dadoVenda>=0:\n",
        "    contador = contador + 1\n",
        "    ValorTotalDasVendas = ValorTotalDasVendas + dadoVenda\n",
        "ValorMedioDasVendas = ValorTotalDasVendas / contador\n",
        "print(\"Total das Vendas: %d\" % (ValorTotalDasVendas))\n",
        "print (\"Média das Vendas: %d\" % (ValorMedioDasVendas))\n",
        "print(\"Quantidade de vendas:%d\" % (contador))\n"
      ],
      "metadata": {
        "colab": {
          "base_uri": "https://localhost:8080/"
        },
        "id": "MvBIKy35P-2C",
        "outputId": "b8c9691e-08cf-44c1-c4ab-d7d32f97cd6c"
      },
      "execution_count": null,
      "outputs": [
        {
          "output_type": "stream",
          "name": "stdout",
          "text": [
            "Digite o valor da venda, ou -1 para finalizar.\n",
            "120\n",
            "Digite o valor da venda, ou -1 para finalizar.\n",
            "20\n",
            "Digite o valor da venda, ou -1 para finalizar.\n",
            "-1\n",
            "Total das Vendas: 140\n",
            "Média das Vendas: 70\n",
            "Quantidade de vendas:2\n"
          ]
        }
      ]
    },
    {
      "cell_type": "code",
      "source": [
        "# laço for simples\n",
        "# sequencia = [10,12,13,14,15,16]\n",
        "# for x in sequencia\n",
        "    #codigo\n",
        "    #codigo\n",
        "    #codigo\n",
        "\n",
        "sequencia = [10,11,12,13,14,15,16]\n",
        "for x in sequencia:\n",
        "  print(\"Número: %d \" % (x))\n"
      ],
      "metadata": {
        "colab": {
          "base_uri": "https://localhost:8080/"
        },
        "id": "0YsMnjmcuCjW",
        "outputId": "18225263-0c93-429f-9e30-67f2ba4f1da3"
      },
      "execution_count": 2,
      "outputs": [
        {
          "output_type": "stream",
          "name": "stdout",
          "text": [
            "Número: 10 \n",
            "Número: 11 \n",
            "Número: 12 \n",
            "Número: 13 \n",
            "Número: 14 \n",
            "Número: 15 \n",
            "Número: 16 \n"
          ]
        }
      ]
    },
    {
      "cell_type": "code",
      "source": [
        "# laço for simples tuplas\n",
        "# sequencia = [10,\"Laranja\",13]\n",
        "# for x in sequencia\n",
        "    #codigo\n",
        "    #codigo\n",
        "    #codigo\n",
        "\n",
        "tupla = [10,\"Laranja\",13,\"Carro\",2+4j,0xff,0o22,\"Marcos Maddo\"]\n",
        "for x in tupla:\n",
        "  print(x)"
      ],
      "metadata": {
        "colab": {
          "base_uri": "https://localhost:8080/"
        },
        "id": "-h8DXTNGvABm",
        "outputId": "538565d1-0459-42d7-dcde-f138b90c7d6b"
      },
      "execution_count": 4,
      "outputs": [
        {
          "output_type": "stream",
          "name": "stdout",
          "text": [
            "10\n",
            "Laranja\n",
            "13\n",
            "Carro\n",
            "(2+4j)\n",
            "255\n",
            "18\n",
            "Marcos Maddo\n"
          ]
        }
      ]
    },
    {
      "cell_type": "code",
      "source": [
        "precoEthanol = float(input(\"Digite o preço do Ethanol   : \"))\n",
        "precoGasolina = float(input(\"Digite o preço do Gasolina   : \"))\n",
        "\n",
        "diferenca = 0.00\n",
        "\n",
        "if(precoGasolina > 0):\n",
        "  diferenca = precoEthanol / precoGasolina\n",
        "  print(\"Adiferenca entre ethanol x Gasolina é: \", diferenca)\n",
        "  if(diferenca<0.7):\n",
        "    print(\"Abasteça com Ethanol\")\n",
        "  else:\n",
        "    print(\"Abasteça com Gasonina\")\n",
        "else:\n",
        "    print(\"Inoforme todos os dados.\")\n"
      ],
      "metadata": {
        "colab": {
          "base_uri": "https://localhost:8080/",
          "height": 245
        },
        "id": "PPdjKcwAzOGG",
        "outputId": "1fec3576-d0f2-4cf8-9ba4-4162f5da2577"
      },
      "execution_count": 11,
      "outputs": [
        {
          "name": "stdout",
          "output_type": "stream",
          "text": [
            "Digite o preço do Ethanol   : 3.55\n",
            "Digite o preço do Gasolina   : \n"
          ]
        },
        {
          "output_type": "error",
          "ename": "ValueError",
          "evalue": "could not convert string to float: ''",
          "traceback": [
            "\u001b[0;31m---------------------------------------------------------------------------\u001b[0m",
            "\u001b[0;31mValueError\u001b[0m                                Traceback (most recent call last)",
            "\u001b[0;32m<ipython-input-11-cd47b9cf9e6c>\u001b[0m in \u001b[0;36m<cell line: 2>\u001b[0;34m()\u001b[0m\n\u001b[1;32m      1\u001b[0m \u001b[0mprecoEthanol\u001b[0m \u001b[0;34m=\u001b[0m \u001b[0mfloat\u001b[0m\u001b[0;34m(\u001b[0m\u001b[0minput\u001b[0m\u001b[0;34m(\u001b[0m\u001b[0;34m\"Digite o preço do Ethanol   : \"\u001b[0m\u001b[0;34m)\u001b[0m\u001b[0;34m)\u001b[0m\u001b[0;34m\u001b[0m\u001b[0;34m\u001b[0m\u001b[0m\n\u001b[0;32m----> 2\u001b[0;31m \u001b[0mprecoGasolina\u001b[0m \u001b[0;34m=\u001b[0m \u001b[0mfloat\u001b[0m\u001b[0;34m(\u001b[0m\u001b[0minput\u001b[0m\u001b[0;34m(\u001b[0m\u001b[0;34m\"Digite o preço do Gasolina   : \"\u001b[0m\u001b[0;34m)\u001b[0m\u001b[0;34m)\u001b[0m\u001b[0;34m\u001b[0m\u001b[0;34m\u001b[0m\u001b[0m\n\u001b[0m\u001b[1;32m      3\u001b[0m \u001b[0;34m\u001b[0m\u001b[0m\n\u001b[1;32m      4\u001b[0m \u001b[0mdiferenca\u001b[0m \u001b[0;34m=\u001b[0m \u001b[0;36m0.00\u001b[0m\u001b[0;34m\u001b[0m\u001b[0;34m\u001b[0m\u001b[0m\n\u001b[1;32m      5\u001b[0m \u001b[0;34m\u001b[0m\u001b[0m\n",
            "\u001b[0;31mValueError\u001b[0m: could not convert string to float: ''"
          ]
        }
      ]
    }
  ]
}